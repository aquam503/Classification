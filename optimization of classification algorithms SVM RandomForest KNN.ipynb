{
  "cells": [
    {
      "cell_type": "code",
      "execution_count": 1,
      "metadata": {
        "id": "xgZ34PNYzzZK"
      },
      "outputs": [],
      "source": [
        "import pandas as pd\n",
        "import numpy as np\n",
        "from sklearn import model_selection\n",
        "from sklearn import ensemble\n",
        "from sklearn import svm\n",
        "from sklearn import neighbors\n",
        "from sklearn.model_selection import train_test_split\n",
        "from sklearn import preprocessing\n",
        "from sklearn.ensemble import VotingClassifier"
      ]
    },
    {
      "cell_type": "code",
      "execution_count": 2,
      "metadata": {
        "id": "Fy4nDVzdzzZM"
      },
      "outputs": [],
      "source": [
        "df=pd.read_csv(\"ENB_data.csv\",sep = ',')"
      ]
    },
    {
      "cell_type": "code",
      "execution_count": 3,
      "metadata": {
        "id": "NYOddSzIAZwi"
      },
      "outputs": [],
      "source": [
        "df.columns = [\"Relative Compactness\",\"Surface Area\",\"Wall Area\",\n",
        "                \"Roof Area\", \"Overall Height\",\"Orientation\",\"Glazing Area\",\n",
        "                \"Glazing Area Distribution\", \"Heating Load\", \"Cooling Load\"]"
      ]
    },
    {
      "cell_type": "code",
      "execution_count": 4,
      "metadata": {
        "colab": {
          "base_uri": "https://localhost:8080/",
          "height": 485
        },
        "id": "Skv7xKkvzzZN",
        "outputId": "41215b37-9e44-4337-93e8-1e37bf90e3ab"
      },
      "outputs": [
        {
          "data": {
            "text/html": [
              "<div>\n",
              "<style scoped>\n",
              "    .dataframe tbody tr th:only-of-type {\n",
              "        vertical-align: middle;\n",
              "    }\n",
              "\n",
              "    .dataframe tbody tr th {\n",
              "        vertical-align: top;\n",
              "    }\n",
              "\n",
              "    .dataframe thead th {\n",
              "        text-align: right;\n",
              "    }\n",
              "</style>\n",
              "<table border=\"1\" class=\"dataframe\">\n",
              "  <thead>\n",
              "    <tr style=\"text-align: right;\">\n",
              "      <th></th>\n",
              "      <th>Relative Compactness</th>\n",
              "      <th>Surface Area</th>\n",
              "      <th>Wall Area</th>\n",
              "      <th>Roof Area</th>\n",
              "      <th>Overall Height</th>\n",
              "      <th>Orientation</th>\n",
              "      <th>Glazing Area</th>\n",
              "      <th>Glazing Area Distribution</th>\n",
              "      <th>Heating Load</th>\n",
              "      <th>Cooling Load</th>\n",
              "    </tr>\n",
              "  </thead>\n",
              "  <tbody>\n",
              "    <tr>\n",
              "      <th>0</th>\n",
              "      <td>0.98</td>\n",
              "      <td>514.5</td>\n",
              "      <td>294.0</td>\n",
              "      <td>110.25</td>\n",
              "      <td>7.0</td>\n",
              "      <td>2</td>\n",
              "      <td>0.0</td>\n",
              "      <td>0</td>\n",
              "      <td>15.55</td>\n",
              "      <td>21.33</td>\n",
              "    </tr>\n",
              "    <tr>\n",
              "      <th>1</th>\n",
              "      <td>0.98</td>\n",
              "      <td>514.5</td>\n",
              "      <td>294.0</td>\n",
              "      <td>110.25</td>\n",
              "      <td>7.0</td>\n",
              "      <td>3</td>\n",
              "      <td>0.0</td>\n",
              "      <td>0</td>\n",
              "      <td>15.55</td>\n",
              "      <td>21.33</td>\n",
              "    </tr>\n",
              "    <tr>\n",
              "      <th>2</th>\n",
              "      <td>0.98</td>\n",
              "      <td>514.5</td>\n",
              "      <td>294.0</td>\n",
              "      <td>110.25</td>\n",
              "      <td>7.0</td>\n",
              "      <td>4</td>\n",
              "      <td>0.0</td>\n",
              "      <td>0</td>\n",
              "      <td>15.55</td>\n",
              "      <td>21.33</td>\n",
              "    </tr>\n",
              "    <tr>\n",
              "      <th>3</th>\n",
              "      <td>0.98</td>\n",
              "      <td>514.5</td>\n",
              "      <td>294.0</td>\n",
              "      <td>110.25</td>\n",
              "      <td>7.0</td>\n",
              "      <td>5</td>\n",
              "      <td>0.0</td>\n",
              "      <td>0</td>\n",
              "      <td>15.55</td>\n",
              "      <td>21.33</td>\n",
              "    </tr>\n",
              "    <tr>\n",
              "      <th>4</th>\n",
              "      <td>0.90</td>\n",
              "      <td>563.5</td>\n",
              "      <td>318.5</td>\n",
              "      <td>122.50</td>\n",
              "      <td>7.0</td>\n",
              "      <td>2</td>\n",
              "      <td>0.0</td>\n",
              "      <td>0</td>\n",
              "      <td>20.84</td>\n",
              "      <td>28.28</td>\n",
              "    </tr>\n",
              "    <tr>\n",
              "      <th>...</th>\n",
              "      <td>...</td>\n",
              "      <td>...</td>\n",
              "      <td>...</td>\n",
              "      <td>...</td>\n",
              "      <td>...</td>\n",
              "      <td>...</td>\n",
              "      <td>...</td>\n",
              "      <td>...</td>\n",
              "      <td>...</td>\n",
              "      <td>...</td>\n",
              "    </tr>\n",
              "    <tr>\n",
              "      <th>763</th>\n",
              "      <td>0.64</td>\n",
              "      <td>784.0</td>\n",
              "      <td>343.0</td>\n",
              "      <td>220.50</td>\n",
              "      <td>3.5</td>\n",
              "      <td>5</td>\n",
              "      <td>0.4</td>\n",
              "      <td>5</td>\n",
              "      <td>17.88</td>\n",
              "      <td>21.40</td>\n",
              "    </tr>\n",
              "    <tr>\n",
              "      <th>764</th>\n",
              "      <td>0.62</td>\n",
              "      <td>808.5</td>\n",
              "      <td>367.5</td>\n",
              "      <td>220.50</td>\n",
              "      <td>3.5</td>\n",
              "      <td>2</td>\n",
              "      <td>0.4</td>\n",
              "      <td>5</td>\n",
              "      <td>16.54</td>\n",
              "      <td>16.88</td>\n",
              "    </tr>\n",
              "    <tr>\n",
              "      <th>765</th>\n",
              "      <td>0.62</td>\n",
              "      <td>808.5</td>\n",
              "      <td>367.5</td>\n",
              "      <td>220.50</td>\n",
              "      <td>3.5</td>\n",
              "      <td>3</td>\n",
              "      <td>0.4</td>\n",
              "      <td>5</td>\n",
              "      <td>16.44</td>\n",
              "      <td>17.11</td>\n",
              "    </tr>\n",
              "    <tr>\n",
              "      <th>766</th>\n",
              "      <td>0.62</td>\n",
              "      <td>808.5</td>\n",
              "      <td>367.5</td>\n",
              "      <td>220.50</td>\n",
              "      <td>3.5</td>\n",
              "      <td>4</td>\n",
              "      <td>0.4</td>\n",
              "      <td>5</td>\n",
              "      <td>16.48</td>\n",
              "      <td>16.61</td>\n",
              "    </tr>\n",
              "    <tr>\n",
              "      <th>767</th>\n",
              "      <td>0.62</td>\n",
              "      <td>808.5</td>\n",
              "      <td>367.5</td>\n",
              "      <td>220.50</td>\n",
              "      <td>3.5</td>\n",
              "      <td>5</td>\n",
              "      <td>0.4</td>\n",
              "      <td>5</td>\n",
              "      <td>16.64</td>\n",
              "      <td>16.03</td>\n",
              "    </tr>\n",
              "  </tbody>\n",
              "</table>\n",
              "<p>768 rows × 10 columns</p>\n",
              "</div>"
            ],
            "text/plain": [
              "     Relative Compactness  Surface Area  Wall Area  Roof Area  Overall Height  \\\n",
              "0                    0.98         514.5      294.0     110.25             7.0   \n",
              "1                    0.98         514.5      294.0     110.25             7.0   \n",
              "2                    0.98         514.5      294.0     110.25             7.0   \n",
              "3                    0.98         514.5      294.0     110.25             7.0   \n",
              "4                    0.90         563.5      318.5     122.50             7.0   \n",
              "..                    ...           ...        ...        ...             ...   \n",
              "763                  0.64         784.0      343.0     220.50             3.5   \n",
              "764                  0.62         808.5      367.5     220.50             3.5   \n",
              "765                  0.62         808.5      367.5     220.50             3.5   \n",
              "766                  0.62         808.5      367.5     220.50             3.5   \n",
              "767                  0.62         808.5      367.5     220.50             3.5   \n",
              "\n",
              "     Orientation  Glazing Area  Glazing Area Distribution  Heating Load  \\\n",
              "0              2           0.0                          0         15.55   \n",
              "1              3           0.0                          0         15.55   \n",
              "2              4           0.0                          0         15.55   \n",
              "3              5           0.0                          0         15.55   \n",
              "4              2           0.0                          0         20.84   \n",
              "..           ...           ...                        ...           ...   \n",
              "763            5           0.4                          5         17.88   \n",
              "764            2           0.4                          5         16.54   \n",
              "765            3           0.4                          5         16.44   \n",
              "766            4           0.4                          5         16.48   \n",
              "767            5           0.4                          5         16.64   \n",
              "\n",
              "     Cooling Load  \n",
              "0           21.33  \n",
              "1           21.33  \n",
              "2           21.33  \n",
              "3           21.33  \n",
              "4           28.28  \n",
              "..            ...  \n",
              "763         21.40  \n",
              "764         16.88  \n",
              "765         17.11  \n",
              "766         16.61  \n",
              "767         16.03  \n",
              "\n",
              "[768 rows x 10 columns]"
            ]
          },
          "execution_count": 4,
          "metadata": {},
          "output_type": "execute_result"
        }
      ],
      "source": [
        "df"
      ]
    },
    {
      "cell_type": "code",
      "execution_count": 5,
      "metadata": {
        "colab": {
          "base_uri": "https://localhost:8080/",
          "height": 496
        },
        "id": "STFtrHlRzzZO",
        "outputId": "984f5206-4d0e-4b07-e1cd-5ccb60d53778"
      },
      "outputs": [
        {
          "data": {
            "text/html": [
              "<div>\n",
              "<style scoped>\n",
              "    .dataframe tbody tr th:only-of-type {\n",
              "        vertical-align: middle;\n",
              "    }\n",
              "\n",
              "    .dataframe tbody tr th {\n",
              "        vertical-align: top;\n",
              "    }\n",
              "\n",
              "    .dataframe thead th {\n",
              "        text-align: right;\n",
              "    }\n",
              "</style>\n",
              "<table border=\"1\" class=\"dataframe\">\n",
              "  <thead>\n",
              "    <tr style=\"text-align: right;\">\n",
              "      <th></th>\n",
              "      <th>Relative Compactness</th>\n",
              "      <th>Surface Area</th>\n",
              "      <th>Wall Area</th>\n",
              "      <th>Roof Area</th>\n",
              "      <th>Overall Height</th>\n",
              "      <th>Orientation</th>\n",
              "      <th>Glazing Area</th>\n",
              "      <th>Glazing Area Distribution</th>\n",
              "      <th>Heating Load</th>\n",
              "      <th>Cooling Load</th>\n",
              "    </tr>\n",
              "  </thead>\n",
              "  <tbody>\n",
              "    <tr>\n",
              "      <th>Relative Compactness</th>\n",
              "      <td>1.000000e+00</td>\n",
              "      <td>-9.919015e-01</td>\n",
              "      <td>-2.037817e-01</td>\n",
              "      <td>-8.688234e-01</td>\n",
              "      <td>8.277473e-01</td>\n",
              "      <td>4.678592e-17</td>\n",
              "      <td>-2.960552e-15</td>\n",
              "      <td>-7.107006e-16</td>\n",
              "      <td>0.622272</td>\n",
              "      <td>0.634339</td>\n",
              "    </tr>\n",
              "    <tr>\n",
              "      <th>Surface Area</th>\n",
              "      <td>-9.919015e-01</td>\n",
              "      <td>1.000000e+00</td>\n",
              "      <td>1.955016e-01</td>\n",
              "      <td>8.807195e-01</td>\n",
              "      <td>-8.581477e-01</td>\n",
              "      <td>-3.459372e-17</td>\n",
              "      <td>3.636925e-15</td>\n",
              "      <td>2.438409e-15</td>\n",
              "      <td>-0.658120</td>\n",
              "      <td>-0.672999</td>\n",
              "    </tr>\n",
              "    <tr>\n",
              "      <th>Wall Area</th>\n",
              "      <td>-2.037817e-01</td>\n",
              "      <td>1.955016e-01</td>\n",
              "      <td>1.000000e+00</td>\n",
              "      <td>-2.923165e-01</td>\n",
              "      <td>2.809757e-01</td>\n",
              "      <td>-2.429499e-17</td>\n",
              "      <td>-8.567455e-17</td>\n",
              "      <td>2.067384e-16</td>\n",
              "      <td>0.455671</td>\n",
              "      <td>0.427117</td>\n",
              "    </tr>\n",
              "    <tr>\n",
              "      <th>Roof Area</th>\n",
              "      <td>-8.688234e-01</td>\n",
              "      <td>8.807195e-01</td>\n",
              "      <td>-2.923165e-01</td>\n",
              "      <td>1.000000e+00</td>\n",
              "      <td>-9.725122e-01</td>\n",
              "      <td>-5.830058e-17</td>\n",
              "      <td>-1.759011e-15</td>\n",
              "      <td>-1.078071e-15</td>\n",
              "      <td>-0.861828</td>\n",
              "      <td>-0.862547</td>\n",
              "    </tr>\n",
              "    <tr>\n",
              "      <th>Overall Height</th>\n",
              "      <td>8.277473e-01</td>\n",
              "      <td>-8.581477e-01</td>\n",
              "      <td>2.809757e-01</td>\n",
              "      <td>-9.725122e-01</td>\n",
              "      <td>1.000000e+00</td>\n",
              "      <td>4.492205e-17</td>\n",
              "      <td>1.489134e-17</td>\n",
              "      <td>-2.920613e-17</td>\n",
              "      <td>0.889431</td>\n",
              "      <td>0.895785</td>\n",
              "    </tr>\n",
              "    <tr>\n",
              "      <th>Orientation</th>\n",
              "      <td>4.678592e-17</td>\n",
              "      <td>-3.459372e-17</td>\n",
              "      <td>-2.429499e-17</td>\n",
              "      <td>-5.830058e-17</td>\n",
              "      <td>4.492205e-17</td>\n",
              "      <td>1.000000e+00</td>\n",
              "      <td>-9.406007e-16</td>\n",
              "      <td>-2.549352e-16</td>\n",
              "      <td>-0.002587</td>\n",
              "      <td>0.014290</td>\n",
              "    </tr>\n",
              "    <tr>\n",
              "      <th>Glazing Area</th>\n",
              "      <td>-2.960552e-15</td>\n",
              "      <td>3.636925e-15</td>\n",
              "      <td>-8.567455e-17</td>\n",
              "      <td>-1.759011e-15</td>\n",
              "      <td>1.489134e-17</td>\n",
              "      <td>-9.406007e-16</td>\n",
              "      <td>1.000000e+00</td>\n",
              "      <td>2.129642e-01</td>\n",
              "      <td>0.269841</td>\n",
              "      <td>0.207505</td>\n",
              "    </tr>\n",
              "    <tr>\n",
              "      <th>Glazing Area Distribution</th>\n",
              "      <td>-7.107006e-16</td>\n",
              "      <td>2.438409e-15</td>\n",
              "      <td>2.067384e-16</td>\n",
              "      <td>-1.078071e-15</td>\n",
              "      <td>-2.920613e-17</td>\n",
              "      <td>-2.549352e-16</td>\n",
              "      <td>2.129642e-01</td>\n",
              "      <td>1.000000e+00</td>\n",
              "      <td>0.087368</td>\n",
              "      <td>0.050525</td>\n",
              "    </tr>\n",
              "    <tr>\n",
              "      <th>Heating Load</th>\n",
              "      <td>6.222722e-01</td>\n",
              "      <td>-6.581202e-01</td>\n",
              "      <td>4.556712e-01</td>\n",
              "      <td>-8.618283e-01</td>\n",
              "      <td>8.894307e-01</td>\n",
              "      <td>-2.586534e-03</td>\n",
              "      <td>2.698410e-01</td>\n",
              "      <td>8.736759e-02</td>\n",
              "      <td>1.000000</td>\n",
              "      <td>0.975862</td>\n",
              "    </tr>\n",
              "    <tr>\n",
              "      <th>Cooling Load</th>\n",
              "      <td>6.343391e-01</td>\n",
              "      <td>-6.729989e-01</td>\n",
              "      <td>4.271170e-01</td>\n",
              "      <td>-8.625466e-01</td>\n",
              "      <td>8.957852e-01</td>\n",
              "      <td>1.428960e-02</td>\n",
              "      <td>2.075050e-01</td>\n",
              "      <td>5.052512e-02</td>\n",
              "      <td>0.975862</td>\n",
              "      <td>1.000000</td>\n",
              "    </tr>\n",
              "  </tbody>\n",
              "</table>\n",
              "</div>"
            ],
            "text/plain": [
              "                           Relative Compactness  Surface Area     Wall Area  \\\n",
              "Relative Compactness               1.000000e+00 -9.919015e-01 -2.037817e-01   \n",
              "Surface Area                      -9.919015e-01  1.000000e+00  1.955016e-01   \n",
              "Wall Area                         -2.037817e-01  1.955016e-01  1.000000e+00   \n",
              "Roof Area                         -8.688234e-01  8.807195e-01 -2.923165e-01   \n",
              "Overall Height                     8.277473e-01 -8.581477e-01  2.809757e-01   \n",
              "Orientation                        4.678592e-17 -3.459372e-17 -2.429499e-17   \n",
              "Glazing Area                      -2.960552e-15  3.636925e-15 -8.567455e-17   \n",
              "Glazing Area Distribution         -7.107006e-16  2.438409e-15  2.067384e-16   \n",
              "Heating Load                       6.222722e-01 -6.581202e-01  4.556712e-01   \n",
              "Cooling Load                       6.343391e-01 -6.729989e-01  4.271170e-01   \n",
              "\n",
              "                              Roof Area  Overall Height   Orientation  \\\n",
              "Relative Compactness      -8.688234e-01    8.277473e-01  4.678592e-17   \n",
              "Surface Area               8.807195e-01   -8.581477e-01 -3.459372e-17   \n",
              "Wall Area                 -2.923165e-01    2.809757e-01 -2.429499e-17   \n",
              "Roof Area                  1.000000e+00   -9.725122e-01 -5.830058e-17   \n",
              "Overall Height            -9.725122e-01    1.000000e+00  4.492205e-17   \n",
              "Orientation               -5.830058e-17    4.492205e-17  1.000000e+00   \n",
              "Glazing Area              -1.759011e-15    1.489134e-17 -9.406007e-16   \n",
              "Glazing Area Distribution -1.078071e-15   -2.920613e-17 -2.549352e-16   \n",
              "Heating Load              -8.618283e-01    8.894307e-01 -2.586534e-03   \n",
              "Cooling Load              -8.625466e-01    8.957852e-01  1.428960e-02   \n",
              "\n",
              "                           Glazing Area  Glazing Area Distribution  \\\n",
              "Relative Compactness      -2.960552e-15              -7.107006e-16   \n",
              "Surface Area               3.636925e-15               2.438409e-15   \n",
              "Wall Area                 -8.567455e-17               2.067384e-16   \n",
              "Roof Area                 -1.759011e-15              -1.078071e-15   \n",
              "Overall Height             1.489134e-17              -2.920613e-17   \n",
              "Orientation               -9.406007e-16              -2.549352e-16   \n",
              "Glazing Area               1.000000e+00               2.129642e-01   \n",
              "Glazing Area Distribution  2.129642e-01               1.000000e+00   \n",
              "Heating Load               2.698410e-01               8.736759e-02   \n",
              "Cooling Load               2.075050e-01               5.052512e-02   \n",
              "\n",
              "                           Heating Load  Cooling Load  \n",
              "Relative Compactness           0.622272      0.634339  \n",
              "Surface Area                  -0.658120     -0.672999  \n",
              "Wall Area                      0.455671      0.427117  \n",
              "Roof Area                     -0.861828     -0.862547  \n",
              "Overall Height                 0.889431      0.895785  \n",
              "Orientation                   -0.002587      0.014290  \n",
              "Glazing Area                   0.269841      0.207505  \n",
              "Glazing Area Distribution      0.087368      0.050525  \n",
              "Heating Load                   1.000000      0.975862  \n",
              "Cooling Load                   0.975862      1.000000  "
            ]
          },
          "execution_count": 5,
          "metadata": {},
          "output_type": "execute_result"
        }
      ],
      "source": [
        "df.corr()"
      ]
    },
    {
      "cell_type": "code",
      "execution_count": 6,
      "metadata": {
        "id": "vLx6M22zzzZO"
      },
      "outputs": [],
      "source": [
        "#Roof Area et Overall Height sont les plus corrélées aux deux variables cibles\t"
      ]
    },
    {
      "cell_type": "code",
      "execution_count": 7,
      "metadata": {
        "id": "smaePIWczzZP"
      },
      "outputs": [],
      "source": [
        "df['total_charges']=df[\"Heating Load\"]+df[\"Cooling Load\"]"
      ]
    },
    {
      "cell_type": "code",
      "execution_count": 8,
      "metadata": {
        "id": "5RtBa5iuzzZP"
      },
      "outputs": [],
      "source": [
        "q=df['total_charges'].quantile([0.25, 0.5, 0.75]).values\n",
        "def classify(x):\n",
        "    if x<=q[0]:\n",
        "        return 0\n",
        "    if x>q[0] and x<=q[1]:\n",
        "        return 1\n",
        "    if x>q[1] and x<=q[2]:\n",
        "        return 2\n",
        "    else :\n",
        "        return 3\n",
        "charge_classes=df['total_charges'].apply(classify)"
      ]
    },
    {
      "cell_type": "code",
      "execution_count": 29,
      "metadata": {},
      "outputs": [
        {
          "data": {
            "text/plain": [
              "array([28.75 , 40.97 , 64.335])"
            ]
          },
          "execution_count": 29,
          "metadata": {},
          "output_type": "execute_result"
        }
      ],
      "source": [
        "q"
      ]
    },
    {
      "cell_type": "code",
      "execution_count": 28,
      "metadata": {},
      "outputs": [
        {
          "data": {
            "text/plain": [
              "1    192\n",
              "2    192\n",
              "3    192\n",
              "0    192\n",
              "Name: total_charges, dtype: int64"
            ]
          },
          "execution_count": 28,
          "metadata": {},
          "output_type": "execute_result"
        }
      ],
      "source": [
        "charge_classes.value_counts()"
      ]
    },
    {
      "cell_type": "code",
      "execution_count": 9,
      "metadata": {
        "id": "M2UUMGSSzzZQ"
      },
      "outputs": [],
      "source": [
        "data=df.drop(['Heating Load','Cooling Load','total_charges'],axis=1)"
      ]
    },
    {
      "cell_type": "code",
      "execution_count": 10,
      "metadata": {
        "id": "jK_bJjfOzzZQ"
      },
      "outputs": [],
      "source": [
        "X_train,X_test,y_train,y_test=train_test_split(data,charge_classes,test_size=0.2)\n",
        "#PREPROCESSING\n",
        "sc=preprocessing.StandardScaler()\n",
        "X_train_transformed=sc.fit_transform(X_train)\n",
        "X_test_transformed=sc.transform(X_test)"
      ]
    },
    {
      "cell_type": "markdown",
      "metadata": {
        "id": "dTlExzCmzzZR"
      },
      "source": [
        "**K plus proches voisins**"
      ]
    },
    {
      "cell_type": "code",
      "execution_count": 11,
      "metadata": {
        "colab": {
          "base_uri": "https://localhost:8080/"
        },
        "id": "DHZdFJ0AzzZS",
        "outputId": "bfed96c9-781a-4e12-8fc9-fb8ac453eb2c"
      },
      "outputs": [
        {
          "data": {
            "text/plain": [
              "GridSearchCV(estimator=KNeighborsClassifier(),\n",
              "             param_grid={'n_neighbors': range(2, 51)})"
            ]
          },
          "execution_count": 11,
          "metadata": {},
          "output_type": "execute_result"
        }
      ],
      "source": [
        "parameters= { 'n_neighbors' : range(2,51) }\n",
        "knn = neighbors.KNeighborsClassifier()        \n",
        "grid=model_selection.GridSearchCV(knn,parameters)\n",
        "grid.fit(X_train_transformed,y_train.values.ravel())"
      ]
    },
    {
      "cell_type": "code",
      "execution_count": 12,
      "metadata": {
        "colab": {
          "base_uri": "https://localhost:8080/"
        },
        "id": "-bNFg3iZzzZT",
        "outputId": "6dcc4b07-f0f4-4aea-fee3-c072d94bcc85"
      },
      "outputs": [
        {
          "data": {
            "text/plain": [
              "{'n_neighbors': 3}"
            ]
          },
          "execution_count": 12,
          "metadata": {},
          "output_type": "execute_result"
        }
      ],
      "source": [
        "grid.best_params_"
      ]
    },
    {
      "cell_type": "code",
      "execution_count": 13,
      "metadata": {
        "id": "UUUB15IWzzZU"
      },
      "outputs": [],
      "source": [
        "# Prediction on test set\n",
        "Y_pred = grid.predict( X_test_transformed )"
      ]
    },
    {
      "cell_type": "code",
      "execution_count": 14,
      "metadata": {
        "colab": {
          "base_uri": "https://localhost:8080/"
        },
        "id": "lE_Ks504zzZV",
        "outputId": "1c0416eb-2f1f-468b-ff05-59c330f96902"
      },
      "outputs": [
        {
          "data": {
            "text/plain": [
              "0.8701298701298701"
            ]
          },
          "execution_count": 14,
          "metadata": {},
          "output_type": "execute_result"
        }
      ],
      "source": [
        "model_knn=grid.best_estimator_\n",
        "model_knn.score(X_test_transformed,y_test)"
      ]
    },
    {
      "cell_type": "code",
      "execution_count": 15,
      "metadata": {
        "colab": {
          "base_uri": "https://localhost:8080/"
        },
        "id": "7jTzOICUzzZV",
        "outputId": "0952b146-4324-421f-b66b-429ff77899c5"
      },
      "outputs": [
        {
          "data": {
            "text/plain": [
              "array([[33,  1,  0,  0],\n",
              "       [ 3, 28,  3,  0],\n",
              "       [ 0,  3, 36,  4],\n",
              "       [ 0,  1,  5, 37]], dtype=int64)"
            ]
          },
          "execution_count": 15,
          "metadata": {},
          "output_type": "execute_result"
        }
      ],
      "source": [
        "from sklearn.metrics import confusion_matrix\n",
        "confusion_matrix=confusion_matrix(y_test,Y_pred)\n",
        "confusion_matrix"
      ]
    },
    {
      "cell_type": "markdown",
      "metadata": {
        "id": "GNcvmK75zzZW"
      },
      "source": [
        "**SVM**"
      ]
    },
    {
      "cell_type": "code",
      "execution_count": 16,
      "metadata": {
        "colab": {
          "base_uri": "https://localhost:8080/"
        },
        "id": "fMfj7jQjzzZW",
        "outputId": "e4397d25-0e75-4645-d3fe-9403e82a0511"
      },
      "outputs": [
        {
          "data": {
            "text/plain": [
              "GridSearchCV(estimator=SVC(),\n",
              "             param_grid={'C': [0.1, 1, 10, 50], 'kernel': ['rbf', 'linear']})"
            ]
          },
          "execution_count": 16,
          "metadata": {},
          "output_type": "execute_result"
        }
      ],
      "source": [
        "# import support vector classifier\n",
        "parameters = { 'kernel' : ['rbf','linear'],'C':[0.1,1,10,50] }\n",
        "model = svm.SVC()        \n",
        "grid=model_selection.GridSearchCV(model,parameters)\n",
        "grid.fit(X_train_transformed,y_train.values.ravel())"
      ]
    },
    {
      "cell_type": "code",
      "execution_count": 17,
      "metadata": {
        "colab": {
          "base_uri": "https://localhost:8080/"
        },
        "id": "QNmjttBXzzZW",
        "outputId": "1db90b99-bb61-435a-8576-ed2bf22b13c9"
      },
      "outputs": [
        {
          "data": {
            "text/plain": [
              "{'C': 50, 'kernel': 'rbf'}"
            ]
          },
          "execution_count": 17,
          "metadata": {},
          "output_type": "execute_result"
        }
      ],
      "source": [
        "grid.best_params_"
      ]
    },
    {
      "cell_type": "code",
      "execution_count": 18,
      "metadata": {
        "id": "JlDkQ4v2zzZX"
      },
      "outputs": [],
      "source": [
        "Y_pred = grid.predict( X_test_transformed )"
      ]
    },
    {
      "cell_type": "code",
      "execution_count": 19,
      "metadata": {
        "colab": {
          "base_uri": "https://localhost:8080/"
        },
        "id": "7sRBZSHszzZX",
        "outputId": "a3036137-bd55-4779-b2ff-861890b002cb"
      },
      "outputs": [
        {
          "data": {
            "text/plain": [
              "0.922077922077922"
            ]
          },
          "execution_count": 19,
          "metadata": {},
          "output_type": "execute_result"
        }
      ],
      "source": [
        "model_sv=grid.best_estimator_\n",
        "model_sv.score(X_test_transformed,y_test)"
      ]
    },
    {
      "cell_type": "code",
      "execution_count": 20,
      "metadata": {
        "colab": {
          "base_uri": "https://localhost:8080/"
        },
        "id": "irG1tFhVzzZX",
        "outputId": "faad4bea-64dd-425d-c344-f3c915126c3e"
      },
      "outputs": [
        {
          "data": {
            "text/plain": [
              "array([[34,  0,  0,  0],\n",
              "       [ 1, 30,  3,  0],\n",
              "       [ 0,  4, 39,  0],\n",
              "       [ 0,  1,  3, 39]], dtype=int64)"
            ]
          },
          "execution_count": 20,
          "metadata": {},
          "output_type": "execute_result"
        }
      ],
      "source": [
        "from sklearn.metrics import confusion_matrix\n",
        "confusion_matrix=confusion_matrix(y_test,Y_pred)\n",
        "confusion_matrix"
      ]
    },
    {
      "cell_type": "markdown",
      "metadata": {
        "id": "lqWm5t1czzZY"
      },
      "source": [
        "**Random Forest**"
      ]
    },
    {
      "cell_type": "code",
      "execution_count": 21,
      "metadata": {
        "colab": {
          "base_uri": "https://localhost:8080/"
        },
        "id": "WCRhsiZ9zzZY",
        "outputId": "cefb89b5-bbf3-433c-daca-3909f78992e8"
      },
      "outputs": [
        {
          "data": {
            "text/plain": [
              "GridSearchCV(estimator=RandomForestClassifier(),\n",
              "             param_grid={'max_features': ['sqrt', 'log2', None],\n",
              "                         'min_samples_split': range(2, 31, 2)})"
            ]
          },
          "execution_count": 21,
          "metadata": {},
          "output_type": "execute_result"
        }
      ],
      "source": [
        "parameters = { \"max_features\": [\"sqrt\",\"log2\",None],\n",
        "\"min_samples_split\": range(2,31,2) }\n",
        "model = ensemble.RandomForestClassifier()        \n",
        "grid=model_selection.GridSearchCV(model,parameters)\n",
        "grid.fit(X_train_transformed,y_train.values.ravel())"
      ]
    },
    {
      "cell_type": "code",
      "execution_count": 22,
      "metadata": {
        "colab": {
          "base_uri": "https://localhost:8080/"
        },
        "id": "iGnr8c2czzZY",
        "outputId": "d172724e-3d6f-41fa-8988-75722d30d50d"
      },
      "outputs": [
        {
          "data": {
            "text/plain": [
              "{'max_features': 'sqrt', 'min_samples_split': 6}"
            ]
          },
          "execution_count": 22,
          "metadata": {},
          "output_type": "execute_result"
        }
      ],
      "source": [
        "grid.best_params_"
      ]
    },
    {
      "cell_type": "code",
      "execution_count": 23,
      "metadata": {
        "id": "K6OJUHLJzzZZ"
      },
      "outputs": [],
      "source": [
        "Y_pred = grid.predict( X_test_transformed )"
      ]
    },
    {
      "cell_type": "code",
      "execution_count": 24,
      "metadata": {
        "colab": {
          "base_uri": "https://localhost:8080/"
        },
        "id": "b7li0JnqzzZZ",
        "outputId": "4fc7121d-d9e9-4ea6-8a97-a8b1c653e938"
      },
      "outputs": [
        {
          "data": {
            "text/plain": [
              "0.935064935064935"
            ]
          },
          "execution_count": 24,
          "metadata": {},
          "output_type": "execute_result"
        }
      ],
      "source": [
        "model_forest=grid.best_estimator_\n",
        "model_forest.score(X_test_transformed,y_test)"
      ]
    },
    {
      "cell_type": "code",
      "execution_count": 25,
      "metadata": {
        "colab": {
          "base_uri": "https://localhost:8080/"
        },
        "id": "z-E2F58-zzZZ",
        "outputId": "0b0c0a82-5a8f-4011-d19c-ec9686d0d2e2"
      },
      "outputs": [
        {
          "data": {
            "text/plain": [
              "array([[34,  0,  0,  0],\n",
              "       [ 0, 31,  3,  0],\n",
              "       [ 0,  3, 39,  1],\n",
              "       [ 0,  0,  3, 40]], dtype=int64)"
            ]
          },
          "execution_count": 25,
          "metadata": {},
          "output_type": "execute_result"
        }
      ],
      "source": [
        "from sklearn.metrics import confusion_matrix\n",
        "confusion_matrix=confusion_matrix(y_test,Y_pred)\n",
        "confusion_matrix"
      ]
    }
  ],
  "metadata": {
    "colab": {
      "collapsed_sections": [],
      "provenance": []
    },
    "kernelspec": {
      "display_name": "Python 3.10.2 64-bit",
      "language": "python",
      "name": "python3"
    },
    "language_info": {
      "codemirror_mode": {
        "name": "ipython",
        "version": 3
      },
      "file_extension": ".py",
      "mimetype": "text/x-python",
      "name": "python",
      "nbconvert_exporter": "python",
      "pygments_lexer": "ipython3",
      "version": "3.10.2"
    },
    "orig_nbformat": 4,
    "vscode": {
      "interpreter": {
        "hash": "26de051ba29f2982a8de78e945f0abaf191376122a1563185a90213a26c5da77"
      }
    }
  },
  "nbformat": 4,
  "nbformat_minor": 0
}
